{
 "cells": [
  {
   "cell_type": "code",
   "execution_count": 2,
   "id": "2fa9150f",
   "metadata": {},
   "outputs": [
    {
     "data": {
      "text/plain": [
       "(60, 40)"
      ]
     },
     "execution_count": 2,
     "metadata": {},
     "output_type": "execute_result"
    }
   ],
   "source": [
    "import numpy as np\n",
    "data = np.loadtxt(fname='data/inflammation-01.csv', delimiter=',')\n",
    "data.shape"
   ]
  },
  {
   "cell_type": "code",
   "execution_count": 3,
   "id": "8aa5a6cc",
   "metadata": {},
   "outputs": [],
   "source": [
    "def daily_mean(data):\n",
    "    \"\"\"Calculate the daily mean of a 2D inflammation data array for each day.\n",
    "\n",
    "    :param data: A 2D data array with inflammation data (each row contains measurements for a single patient across all days).\n",
    "    :returns: An array of mean values of measurements for each day.\n",
    "    \"\"\"\n",
    "    return np.mean(data, axis=0)"
   ]
  },
  {
   "cell_type": "code",
   "execution_count": 5,
   "id": "7c27d28b",
   "metadata": {},
   "outputs": [
    {
     "data": {
      "text/plain": [
       "array([ 0.  ,  0.5 ,  1.5 ,  1.75,  2.5 ,  1.75,  3.75,  3.  ,  5.25,\n",
       "        6.25,  7.  ,  7.  ,  7.  ,  8.  ,  5.75,  7.75,  8.5 , 11.  ,\n",
       "        9.75, 10.25, 15.  ,  8.75,  9.75, 10.  ,  8.  , 10.25,  8.  ,\n",
       "        5.5 ,  8.  ,  6.  ,  5.  ,  4.75,  4.75,  4.  ,  3.25,  4.  ,\n",
       "        1.75,  2.25,  0.75,  0.75])"
      ]
     },
     "execution_count": 5,
     "metadata": {},
     "output_type": "execute_result"
    }
   ],
   "source": [
    "from models import daily_mean\n",
    "\n",
    "daily_mean(data[0:4])"
   ]
  },
  {
   "cell_type": "code",
   "execution_count": 2,
   "id": "6d49ca1d",
   "metadata": {},
   "outputs": [
    {
     "name": "stdout",
     "output_type": "stream",
     "text": [
      "\u001b[1m============================= test session starts ==============================\u001b[0m\n",
      "platform darwin -- Python 3.12.7, pytest-7.4.4, pluggy-1.0.0\n",
      "rootdir: /Users/jessicacarr/SD_projects-1\n",
      "plugins: langsmith-0.4.9, mock-3.14.0, anyio-4.2.0\n",
      "collected 8 items                                                              \u001b[0m\u001b[1m\n",
      "\n",
      "tests/test_models.py \u001b[32m.\u001b[0m\u001b[32m.\u001b[0m\u001b[32m.\u001b[0m\u001b[32m.\u001b[0m\u001b[32m.\u001b[0m\u001b[32m.\u001b[0m\u001b[32m.\u001b[0m\u001b[31mF\u001b[0m\u001b[31m                                            [100%]\u001b[0m\n",
      "\n",
      "=================================== FAILURES ===================================\n",
      "\u001b[31m\u001b[1m___________________ test_patient_normalise[test0-expected0] ____________________\u001b[0m\n",
      "\n",
      "test = [[1, 2, 3], [4, 5, 6], [7, 8, 9]]\n",
      "expected = [[0.33, 0.67, 1], [0.67, 0.83, 1], [0.78, 0.89, 1]]\n",
      "\n",
      "    \u001b[37m@pytest\u001b[39;49;00m.mark.parametrize(\u001b[90m\u001b[39;49;00m\n",
      "        \u001b[33m\"\u001b[39;49;00m\u001b[33mtest, expected\u001b[39;49;00m\u001b[33m\"\u001b[39;49;00m,\u001b[90m\u001b[39;49;00m\n",
      "        [\u001b[90m\u001b[39;49;00m\n",
      "            (\u001b[90m\u001b[39;49;00m\n",
      "                [[\u001b[94m1\u001b[39;49;00m, \u001b[94m2\u001b[39;49;00m, \u001b[94m3\u001b[39;49;00m], [\u001b[94m4\u001b[39;49;00m, \u001b[94m5\u001b[39;49;00m, \u001b[94m6\u001b[39;49;00m], [\u001b[94m7\u001b[39;49;00m, \u001b[94m8\u001b[39;49;00m, \u001b[94m9\u001b[39;49;00m]],\u001b[90m\u001b[39;49;00m\n",
      "                [[\u001b[94m0.33\u001b[39;49;00m, \u001b[94m0.67\u001b[39;49;00m, \u001b[94m1\u001b[39;49;00m], [\u001b[94m0.67\u001b[39;49;00m, \u001b[94m0.83\u001b[39;49;00m, \u001b[94m1\u001b[39;49;00m], [\u001b[94m0.78\u001b[39;49;00m, \u001b[94m0.89\u001b[39;49;00m, \u001b[94m1\u001b[39;49;00m]],\u001b[90m\u001b[39;49;00m\n",
      "            )\u001b[90m\u001b[39;49;00m\n",
      "        ],\u001b[90m\u001b[39;49;00m\n",
      "    )\u001b[90m\u001b[39;49;00m\n",
      "    \u001b[94mdef\u001b[39;49;00m \u001b[92mtest_patient_normalise\u001b[39;49;00m(test, expected):\u001b[90m\u001b[39;49;00m\n",
      "    \u001b[90m    \u001b[39;49;00m\u001b[33m\"\"\"Test normalisation works for arrays of one and positive integers.\u001b[39;49;00m\n",
      "    \u001b[33m    Assumption that test accuracy of two decimal places is sufficient.\"\"\"\u001b[39;49;00m\u001b[90m\u001b[39;49;00m\n",
      ">       \u001b[94mfrom\u001b[39;49;00m \u001b[04m\u001b[96minflammation\u001b[39;49;00m\u001b[04m\u001b[96m.\u001b[39;49;00m\u001b[04m\u001b[96mmodels\u001b[39;49;00m \u001b[94mimport\u001b[39;49;00m patient_normalise\u001b[90m\u001b[39;49;00m\n",
      "\u001b[1m\u001b[31mE       ImportError: cannot import name 'patient_normalise' from 'inflammation.models' (/Users/jessicacarr/SD_projects-1/inflammation/models.py)\u001b[0m\n",
      "\n",
      "\u001b[1m\u001b[31mtests/test_models.py\u001b[0m:99: ImportError\n",
      "\u001b[36m\u001b[1m=========================== short test summary info ============================\u001b[0m\n",
      "\u001b[31mFAILED\u001b[0m tests/test_models.py::\u001b[1mtest_patient_normalise[test0-expected0]\u001b[0m - ImportError: cannot import name 'patient_normalise' from 'inflammation.mode...\n",
      "\u001b[31m========================= \u001b[31m\u001b[1m1 failed\u001b[0m, \u001b[32m7 passed\u001b[0m\u001b[31m in 0.59s\u001b[0m\u001b[31m ==========================\u001b[0m\n"
     ]
    }
   ],
   "source": [
    "!python -m pytest tests/test_models.py"
   ]
  },
  {
   "cell_type": "code",
   "execution_count": null,
   "id": "8250bdcf",
   "metadata": {},
   "outputs": [],
   "source": []
  }
 ],
 "metadata": {
  "kernelspec": {
   "display_name": "base",
   "language": "python",
   "name": "python3"
  },
  "language_info": {
   "codemirror_mode": {
    "name": "ipython",
    "version": 3
   },
   "file_extension": ".py",
   "mimetype": "text/x-python",
   "name": "python",
   "nbconvert_exporter": "python",
   "pygments_lexer": "ipython3",
   "version": "3.12.7"
  }
 },
 "nbformat": 4,
 "nbformat_minor": 5
}
